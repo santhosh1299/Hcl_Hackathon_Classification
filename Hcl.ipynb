{
 "cells": [
  {
   "cell_type": "markdown",
   "metadata": {},
   "source": [
    "# HCL Hackathon 2020 Machine Learning Question "
   ]
  },
  {
   "cell_type": "code",
   "execution_count": 208,
   "metadata": {},
   "outputs": [],
   "source": [
    "\n",
    "import pandas as pd #for data manipulation\n",
    "import numpy as np #for complex matrix operations\n",
    "from sklearn.naive_bayes import GaussianNB #classifier\n",
    "from sklearn.model_selection import train_test_split #for splitting test data and train data \n",
    "from sklearn import metrics #to calculate the Accuracy\n",
    "import matplotlib.pyplot as plt #for data visualization"
   ]
  },
  {
   "cell_type": "markdown",
   "metadata": {},
   "source": [
    "## Loading the dataset with the given URL "
   ]
  },
  {
   "cell_type": "code",
   "execution_count": 33,
   "metadata": {},
   "outputs": [],
   "source": [
    "url = 'https://mettl-arq.s3-ap-southeast-1.amazonaws.com/questions/iit-kanpur/cyber-security-hackathon/round1/problem2/f1fswvsvi0/training.json'\n",
    "\n",
    "df = pd.read_json(url, lines =True)\n",
    "train_length =df.size\n"
   ]
  },
  {
   "cell_type": "markdown",
   "metadata": {},
   "source": [
    "## Given Dataset"
   ]
  },
  {
   "cell_type": "code",
   "execution_count": 205,
   "metadata": {},
   "outputs": [
    {
     "data": {
      "text/html": [
       "<div>\n",
       "<style scoped>\n",
       "    .dataframe tbody tr th:only-of-type {\n",
       "        vertical-align: middle;\n",
       "    }\n",
       "\n",
       "    .dataframe tbody tr th {\n",
       "        vertical-align: top;\n",
       "    }\n",
       "\n",
       "    .dataframe thead th {\n",
       "        text-align: right;\n",
       "    }\n",
       "</style>\n",
       "<table border=\"1\" class=\"dataframe\">\n",
       "  <thead>\n",
       "    <tr style=\"text-align: right;\">\n",
       "      <th></th>\n",
       "      <th>0</th>\n",
       "      <th>1</th>\n",
       "      <th>2</th>\n",
       "      <th>3</th>\n",
       "      <th>4</th>\n",
       "      <th>5</th>\n",
       "      <th>6</th>\n",
       "      <th>7</th>\n",
       "      <th>8</th>\n",
       "      <th>9</th>\n",
       "      <th>...</th>\n",
       "      <th>4990</th>\n",
       "      <th>4991</th>\n",
       "      <th>4992</th>\n",
       "      <th>4993</th>\n",
       "      <th>4994</th>\n",
       "      <th>4995</th>\n",
       "      <th>4996</th>\n",
       "      <th>4997</th>\n",
       "      <th>4998</th>\n",
       "      <th>4999</th>\n",
       "    </tr>\n",
       "  </thead>\n",
       "  <tbody>\n",
       "    <tr>\n",
       "      <th>0</th>\n",
       "      <td>{'SAI TARUN PAWAR': {'grade': 'Fair', 'score10...</td>\n",
       "      <td>{'AKSHAY Dasgupta': {'grade': 'Very good', 'sc...</td>\n",
       "      <td>{'Aneet Randhawa': {'grade': 'Exceptional', 's...</td>\n",
       "      <td>{'FARDIN NAWAB ALI BHATI': {'grade': 'Good', '...</td>\n",
       "      <td>{'ASHISH KUMAR': {'grade': 'Fair', 'score10': ...</td>\n",
       "      <td>{'RUCHI AWASTHI': {'grade': 'Good', 'score10':...</td>\n",
       "      <td>{'Kumar Goodwill': {'grade': 'Very good', 'sco...</td>\n",
       "      <td>{'Sunil Sharma': {'grade': 'Exceptional', 'sco...</td>\n",
       "      <td>{'Vishal Sethi': {'grade': 'Poor', 'score10': ...</td>\n",
       "      <td>{'Ankit Gour': {'grade': 'Good', 'score10': 71...</td>\n",
       "      <td>...</td>\n",
       "      <td>{'ARUN KUMAR JHAJHARIA': {'grade': 'Very good'...</td>\n",
       "      <td>{'MEETUL RATHORE': {'grade': 'Good', 'score10'...</td>\n",
       "      <td>{'RITESH SINGH': {'grade': 'Good', 'score10': ...</td>\n",
       "      <td>{'SNIGDHA PANDEY': {'grade': 'Exceptional', 's...</td>\n",
       "      <td>{'Rohit sharma': {'grade': 'Good', 'score10': ...</td>\n",
       "      <td>{'KAMESH SHRIVASTAVA': {'grade': 'Good', 'scor...</td>\n",
       "      <td>{'Sonu Dave': {'grade': 'Poor', 'score10': 92,...</td>\n",
       "      <td>{'Ankit Sodhi': {'grade': 'Good', 'score10': 9...</td>\n",
       "      <td>{'Ram Gopal Jaiswal': {'grade': 'Fair', 'score...</td>\n",
       "      <td>{'RAVI KUMAR MISHRA': {'grade': 'Exceptional',...</td>\n",
       "    </tr>\n",
       "  </tbody>\n",
       "</table>\n",
       "<p>1 rows × 5000 columns</p>\n",
       "</div>"
      ],
      "text/plain": [
       "                                                0     \\\n",
       "0  {'SAI TARUN PAWAR': {'grade': 'Fair', 'score10...   \n",
       "\n",
       "                                                1     \\\n",
       "0  {'AKSHAY Dasgupta': {'grade': 'Very good', 'sc...   \n",
       "\n",
       "                                                2     \\\n",
       "0  {'Aneet Randhawa': {'grade': 'Exceptional', 's...   \n",
       "\n",
       "                                                3     \\\n",
       "0  {'FARDIN NAWAB ALI BHATI': {'grade': 'Good', '...   \n",
       "\n",
       "                                                4     \\\n",
       "0  {'ASHISH KUMAR': {'grade': 'Fair', 'score10': ...   \n",
       "\n",
       "                                                5     \\\n",
       "0  {'RUCHI AWASTHI': {'grade': 'Good', 'score10':...   \n",
       "\n",
       "                                                6     \\\n",
       "0  {'Kumar Goodwill': {'grade': 'Very good', 'sco...   \n",
       "\n",
       "                                                7     \\\n",
       "0  {'Sunil Sharma': {'grade': 'Exceptional', 'sco...   \n",
       "\n",
       "                                                8     \\\n",
       "0  {'Vishal Sethi': {'grade': 'Poor', 'score10': ...   \n",
       "\n",
       "                                                9     ...  \\\n",
       "0  {'Ankit Gour': {'grade': 'Good', 'score10': 71...  ...   \n",
       "\n",
       "                                                4990  \\\n",
       "0  {'ARUN KUMAR JHAJHARIA': {'grade': 'Very good'...   \n",
       "\n",
       "                                                4991  \\\n",
       "0  {'MEETUL RATHORE': {'grade': 'Good', 'score10'...   \n",
       "\n",
       "                                                4992  \\\n",
       "0  {'RITESH SINGH': {'grade': 'Good', 'score10': ...   \n",
       "\n",
       "                                                4993  \\\n",
       "0  {'SNIGDHA PANDEY': {'grade': 'Exceptional', 's...   \n",
       "\n",
       "                                                4994  \\\n",
       "0  {'Rohit sharma': {'grade': 'Good', 'score10': ...   \n",
       "\n",
       "                                                4995  \\\n",
       "0  {'KAMESH SHRIVASTAVA': {'grade': 'Good', 'scor...   \n",
       "\n",
       "                                                4996  \\\n",
       "0  {'Sonu Dave': {'grade': 'Poor', 'score10': 92,...   \n",
       "\n",
       "                                                4997  \\\n",
       "0  {'Ankit Sodhi': {'grade': 'Good', 'score10': 9...   \n",
       "\n",
       "                                                4998  \\\n",
       "0  {'Ram Gopal Jaiswal': {'grade': 'Fair', 'score...   \n",
       "\n",
       "                                                4999  \n",
       "0  {'RAVI KUMAR MISHRA': {'grade': 'Exceptional',...  \n",
       "\n",
       "[1 rows x 5000 columns]"
      ]
     },
     "execution_count": 205,
     "metadata": {},
     "output_type": "execute_result"
    }
   ],
   "source": [
    "df"
   ]
  },
  {
   "cell_type": "markdown",
   "metadata": {},
   "source": [
    "## Cleaning and converting the JSON objects\n"
   ]
  },
  {
   "cell_type": "code",
   "execution_count": 150,
   "metadata": {},
   "outputs": [],
   "source": [
    "y= []\n",
    "\n",
    "\n",
    "for key in df.keys():\n",
    "    one_student=df.get(key)\n",
    "    \n",
    "    for name in one_student.keys():\n",
    "        \n",
    "        student = one_student.get(name)\n",
    "        \n",
    "        for real in student.keys():\n",
    "            \n",
    "            \n",
    "            mark = student.get(real)\n",
    "            x1=[]\n",
    "            for grade in mark.keys():\n",
    "                \n",
    "                x1.append(mark.get(grade))   \n",
    "            y.append(x1)\n",
    "                \n",
    "                \n",
    "    \n",
    "    "
   ]
  },
  {
   "cell_type": "markdown",
   "metadata": {},
   "source": [
    "## Creating a DataFrame with the cleaned data"
   ]
  },
  {
   "cell_type": "code",
   "execution_count": 153,
   "metadata": {},
   "outputs": [],
   "source": [
    "cleaned_data = pd.DataFrame(y,columns = ['grade','score1','score2','score3','score4','score5','score6','score7','score8','score9','score10'])"
   ]
  },
  {
   "cell_type": "code",
   "execution_count": 154,
   "metadata": {},
   "outputs": [
    {
     "data": {
      "text/html": [
       "<div>\n",
       "<style scoped>\n",
       "    .dataframe tbody tr th:only-of-type {\n",
       "        vertical-align: middle;\n",
       "    }\n",
       "\n",
       "    .dataframe tbody tr th {\n",
       "        vertical-align: top;\n",
       "    }\n",
       "\n",
       "    .dataframe thead th {\n",
       "        text-align: right;\n",
       "    }\n",
       "</style>\n",
       "<table border=\"1\" class=\"dataframe\">\n",
       "  <thead>\n",
       "    <tr style=\"text-align: right;\">\n",
       "      <th></th>\n",
       "      <th>grade</th>\n",
       "      <th>score1</th>\n",
       "      <th>score2</th>\n",
       "      <th>score3</th>\n",
       "      <th>score4</th>\n",
       "      <th>score5</th>\n",
       "      <th>score6</th>\n",
       "      <th>score7</th>\n",
       "      <th>score8</th>\n",
       "      <th>score9</th>\n",
       "      <th>score10</th>\n",
       "    </tr>\n",
       "  </thead>\n",
       "  <tbody>\n",
       "    <tr>\n",
       "      <th>0</th>\n",
       "      <td>Fair</td>\n",
       "      <td>94</td>\n",
       "      <td>67</td>\n",
       "      <td>99</td>\n",
       "      <td>67</td>\n",
       "      <td>72</td>\n",
       "      <td>94</td>\n",
       "      <td>84</td>\n",
       "      <td>81</td>\n",
       "      <td>93</td>\n",
       "      <td>63</td>\n",
       "    </tr>\n",
       "    <tr>\n",
       "      <th>1</th>\n",
       "      <td>Very good</td>\n",
       "      <td>77</td>\n",
       "      <td>95</td>\n",
       "      <td>85</td>\n",
       "      <td>81</td>\n",
       "      <td>83</td>\n",
       "      <td>92</td>\n",
       "      <td>98</td>\n",
       "      <td>97</td>\n",
       "      <td>83</td>\n",
       "      <td>82</td>\n",
       "    </tr>\n",
       "    <tr>\n",
       "      <th>2</th>\n",
       "      <td>Exceptional</td>\n",
       "      <td>91</td>\n",
       "      <td>95</td>\n",
       "      <td>93</td>\n",
       "      <td>95</td>\n",
       "      <td>93</td>\n",
       "      <td>91</td>\n",
       "      <td>93</td>\n",
       "      <td>91</td>\n",
       "      <td>83</td>\n",
       "      <td>85</td>\n",
       "    </tr>\n",
       "    <tr>\n",
       "      <th>3</th>\n",
       "      <td>Good</td>\n",
       "      <td>75</td>\n",
       "      <td>72</td>\n",
       "      <td>91</td>\n",
       "      <td>84</td>\n",
       "      <td>93</td>\n",
       "      <td>93</td>\n",
       "      <td>98</td>\n",
       "      <td>77</td>\n",
       "      <td>74</td>\n",
       "      <td>97</td>\n",
       "    </tr>\n",
       "    <tr>\n",
       "      <th>4</th>\n",
       "      <td>Fair</td>\n",
       "      <td>80</td>\n",
       "      <td>77</td>\n",
       "      <td>87</td>\n",
       "      <td>75</td>\n",
       "      <td>89</td>\n",
       "      <td>82</td>\n",
       "      <td>94</td>\n",
       "      <td>84</td>\n",
       "      <td>99</td>\n",
       "      <td>75</td>\n",
       "    </tr>\n",
       "    <tr>\n",
       "      <th>...</th>\n",
       "      <td>...</td>\n",
       "      <td>...</td>\n",
       "      <td>...</td>\n",
       "      <td>...</td>\n",
       "      <td>...</td>\n",
       "      <td>...</td>\n",
       "      <td>...</td>\n",
       "      <td>...</td>\n",
       "      <td>...</td>\n",
       "      <td>...</td>\n",
       "      <td>...</td>\n",
       "    </tr>\n",
       "    <tr>\n",
       "      <th>4995</th>\n",
       "      <td>Good</td>\n",
       "      <td>93</td>\n",
       "      <td>89</td>\n",
       "      <td>76</td>\n",
       "      <td>91</td>\n",
       "      <td>79</td>\n",
       "      <td>95</td>\n",
       "      <td>91</td>\n",
       "      <td>94</td>\n",
       "      <td>76</td>\n",
       "      <td>87</td>\n",
       "    </tr>\n",
       "    <tr>\n",
       "      <th>4996</th>\n",
       "      <td>Poor</td>\n",
       "      <td>92</td>\n",
       "      <td>98</td>\n",
       "      <td>65</td>\n",
       "      <td>66</td>\n",
       "      <td>46</td>\n",
       "      <td>87</td>\n",
       "      <td>86</td>\n",
       "      <td>64</td>\n",
       "      <td>83</td>\n",
       "      <td>54</td>\n",
       "    </tr>\n",
       "    <tr>\n",
       "      <th>4997</th>\n",
       "      <td>Good</td>\n",
       "      <td>91</td>\n",
       "      <td>99</td>\n",
       "      <td>77</td>\n",
       "      <td>86</td>\n",
       "      <td>97</td>\n",
       "      <td>96</td>\n",
       "      <td>91</td>\n",
       "      <td>96</td>\n",
       "      <td>73</td>\n",
       "      <td>91</td>\n",
       "    </tr>\n",
       "    <tr>\n",
       "      <th>4998</th>\n",
       "      <td>Fair</td>\n",
       "      <td>70</td>\n",
       "      <td>96</td>\n",
       "      <td>97</td>\n",
       "      <td>85</td>\n",
       "      <td>74</td>\n",
       "      <td>87</td>\n",
       "      <td>87</td>\n",
       "      <td>64</td>\n",
       "      <td>81</td>\n",
       "      <td>84</td>\n",
       "    </tr>\n",
       "    <tr>\n",
       "      <th>4999</th>\n",
       "      <td>Exceptional</td>\n",
       "      <td>83</td>\n",
       "      <td>94</td>\n",
       "      <td>92</td>\n",
       "      <td>91</td>\n",
       "      <td>93</td>\n",
       "      <td>98</td>\n",
       "      <td>93</td>\n",
       "      <td>96</td>\n",
       "      <td>98</td>\n",
       "      <td>98</td>\n",
       "    </tr>\n",
       "  </tbody>\n",
       "</table>\n",
       "<p>5000 rows × 11 columns</p>\n",
       "</div>"
      ],
      "text/plain": [
       "            grade  score1  score2  score3  score4  score5  score6  score7  \\\n",
       "0            Fair      94      67      99      67      72      94      84   \n",
       "1       Very good      77      95      85      81      83      92      98   \n",
       "2     Exceptional      91      95      93      95      93      91      93   \n",
       "3            Good      75      72      91      84      93      93      98   \n",
       "4            Fair      80      77      87      75      89      82      94   \n",
       "...           ...     ...     ...     ...     ...     ...     ...     ...   \n",
       "4995         Good      93      89      76      91      79      95      91   \n",
       "4996         Poor      92      98      65      66      46      87      86   \n",
       "4997         Good      91      99      77      86      97      96      91   \n",
       "4998         Fair      70      96      97      85      74      87      87   \n",
       "4999  Exceptional      83      94      92      91      93      98      93   \n",
       "\n",
       "      score8  score9  score10  \n",
       "0         81      93       63  \n",
       "1         97      83       82  \n",
       "2         91      83       85  \n",
       "3         77      74       97  \n",
       "4         84      99       75  \n",
       "...      ...     ...      ...  \n",
       "4995      94      76       87  \n",
       "4996      64      83       54  \n",
       "4997      96      73       91  \n",
       "4998      64      81       84  \n",
       "4999      96      98       98  \n",
       "\n",
       "[5000 rows x 11 columns]"
      ]
     },
     "execution_count": 154,
     "metadata": {},
     "output_type": "execute_result"
    }
   ],
   "source": [
    "cleaned_data"
   ]
  },
  {
   "cell_type": "markdown",
   "metadata": {},
   "source": [
    "## Visualizing the cleaned data"
   ]
  },
  {
   "cell_type": "code",
   "execution_count": 219,
   "metadata": {},
   "outputs": [
    {
     "data": {
      "text/plain": [
       "<matplotlib.collections.PathCollection at 0x3846fd30>"
      ]
     },
     "execution_count": 219,
     "metadata": {},
     "output_type": "execute_result"
    },
    {
     "data": {
      "image/png": "[encoded data removed]",
      "text/plain": [
       "<Figure size 576x576 with 1 Axes>"
      ]
     },
     "metadata": {
      "needs_background": "light"
     },
     "output_type": "display_data"
    }
   ],
   "source": [
    "fig,ax = plt.subplots(figsize = (8,8))\n",
    "ax.scatter(cleaned_data.grade,cleaned_data.score1)"
   ]
  },
  {
   "cell_type": "markdown",
   "metadata": {},
   "source": [
    "## Feature Selection"
   ]
  },
  {
   "cell_type": "markdown",
   "metadata": {},
   "source": [
    "### All independant features"
   ]
  },
  {
   "cell_type": "code",
   "execution_count": 187,
   "metadata": {},
   "outputs": [
    {
     "data": {
      "text/html": [
       "<div>\n",
       "<style scoped>\n",
       "    .dataframe tbody tr th:only-of-type {\n",
       "        vertical-align: middle;\n",
       "    }\n",
       "\n",
       "    .dataframe tbody tr th {\n",
       "        vertical-align: top;\n",
       "    }\n",
       "\n",
       "    .dataframe thead th {\n",
       "        text-align: right;\n",
       "    }\n",
       "</style>\n",
       "<table border=\"1\" class=\"dataframe\">\n",
       "  <thead>\n",
       "    <tr style=\"text-align: right;\">\n",
       "      <th></th>\n",
       "      <th>score1</th>\n",
       "      <th>score2</th>\n",
       "      <th>score3</th>\n",
       "      <th>score4</th>\n",
       "      <th>score5</th>\n",
       "      <th>score6</th>\n",
       "      <th>score7</th>\n",
       "      <th>score8</th>\n",
       "      <th>score9</th>\n",
       "      <th>score10</th>\n",
       "    </tr>\n",
       "  </thead>\n",
       "  <tbody>\n",
       "    <tr>\n",
       "      <th>0</th>\n",
       "      <td>94</td>\n",
       "      <td>67</td>\n",
       "      <td>99</td>\n",
       "      <td>67</td>\n",
       "      <td>72</td>\n",
       "      <td>94</td>\n",
       "      <td>84</td>\n",
       "      <td>81</td>\n",
       "      <td>93</td>\n",
       "      <td>63</td>\n",
       "    </tr>\n",
       "    <tr>\n",
       "      <th>1</th>\n",
       "      <td>77</td>\n",
       "      <td>95</td>\n",
       "      <td>85</td>\n",
       "      <td>81</td>\n",
       "      <td>83</td>\n",
       "      <td>92</td>\n",
       "      <td>98</td>\n",
       "      <td>97</td>\n",
       "      <td>83</td>\n",
       "      <td>82</td>\n",
       "    </tr>\n",
       "    <tr>\n",
       "      <th>2</th>\n",
       "      <td>91</td>\n",
       "      <td>95</td>\n",
       "      <td>93</td>\n",
       "      <td>95</td>\n",
       "      <td>93</td>\n",
       "      <td>91</td>\n",
       "      <td>93</td>\n",
       "      <td>91</td>\n",
       "      <td>83</td>\n",
       "      <td>85</td>\n",
       "    </tr>\n",
       "    <tr>\n",
       "      <th>3</th>\n",
       "      <td>75</td>\n",
       "      <td>72</td>\n",
       "      <td>91</td>\n",
       "      <td>84</td>\n",
       "      <td>93</td>\n",
       "      <td>93</td>\n",
       "      <td>98</td>\n",
       "      <td>77</td>\n",
       "      <td>74</td>\n",
       "      <td>97</td>\n",
       "    </tr>\n",
       "    <tr>\n",
       "      <th>4</th>\n",
       "      <td>80</td>\n",
       "      <td>77</td>\n",
       "      <td>87</td>\n",
       "      <td>75</td>\n",
       "      <td>89</td>\n",
       "      <td>82</td>\n",
       "      <td>94</td>\n",
       "      <td>84</td>\n",
       "      <td>99</td>\n",
       "      <td>75</td>\n",
       "    </tr>\n",
       "    <tr>\n",
       "      <th>...</th>\n",
       "      <td>...</td>\n",
       "      <td>...</td>\n",
       "      <td>...</td>\n",
       "      <td>...</td>\n",
       "      <td>...</td>\n",
       "      <td>...</td>\n",
       "      <td>...</td>\n",
       "      <td>...</td>\n",
       "      <td>...</td>\n",
       "      <td>...</td>\n",
       "    </tr>\n",
       "    <tr>\n",
       "      <th>4995</th>\n",
       "      <td>93</td>\n",
       "      <td>89</td>\n",
       "      <td>76</td>\n",
       "      <td>91</td>\n",
       "      <td>79</td>\n",
       "      <td>95</td>\n",
       "      <td>91</td>\n",
       "      <td>94</td>\n",
       "      <td>76</td>\n",
       "      <td>87</td>\n",
       "    </tr>\n",
       "    <tr>\n",
       "      <th>4996</th>\n",
       "      <td>92</td>\n",
       "      <td>98</td>\n",
       "      <td>65</td>\n",
       "      <td>66</td>\n",
       "      <td>46</td>\n",
       "      <td>87</td>\n",
       "      <td>86</td>\n",
       "      <td>64</td>\n",
       "      <td>83</td>\n",
       "      <td>54</td>\n",
       "    </tr>\n",
       "    <tr>\n",
       "      <th>4997</th>\n",
       "      <td>91</td>\n",
       "      <td>99</td>\n",
       "      <td>77</td>\n",
       "      <td>86</td>\n",
       "      <td>97</td>\n",
       "      <td>96</td>\n",
       "      <td>91</td>\n",
       "      <td>96</td>\n",
       "      <td>73</td>\n",
       "      <td>91</td>\n",
       "    </tr>\n",
       "    <tr>\n",
       "      <th>4998</th>\n",
       "      <td>70</td>\n",
       "      <td>96</td>\n",
       "      <td>97</td>\n",
       "      <td>85</td>\n",
       "      <td>74</td>\n",
       "      <td>87</td>\n",
       "      <td>87</td>\n",
       "      <td>64</td>\n",
       "      <td>81</td>\n",
       "      <td>84</td>\n",
       "    </tr>\n",
       "    <tr>\n",
       "      <th>4999</th>\n",
       "      <td>83</td>\n",
       "      <td>94</td>\n",
       "      <td>92</td>\n",
       "      <td>91</td>\n",
       "      <td>93</td>\n",
       "      <td>98</td>\n",
       "      <td>93</td>\n",
       "      <td>96</td>\n",
       "      <td>98</td>\n",
       "      <td>98</td>\n",
       "    </tr>\n",
       "  </tbody>\n",
       "</table>\n",
       "<p>5000 rows × 10 columns</p>\n",
       "</div>"
      ],
      "text/plain": [
       "      score1  score2  score3  score4  score5  score6  score7  score8  score9  \\\n",
       "0         94      67      99      67      72      94      84      81      93   \n",
       "1         77      95      85      81      83      92      98      97      83   \n",
       "2         91      95      93      95      93      91      93      91      83   \n",
       "3         75      72      91      84      93      93      98      77      74   \n",
       "4         80      77      87      75      89      82      94      84      99   \n",
       "...      ...     ...     ...     ...     ...     ...     ...     ...     ...   \n",
       "4995      93      89      76      91      79      95      91      94      76   \n",
       "4996      92      98      65      66      46      87      86      64      83   \n",
       "4997      91      99      77      86      97      96      91      96      73   \n",
       "4998      70      96      97      85      74      87      87      64      81   \n",
       "4999      83      94      92      91      93      98      93      96      98   \n",
       "\n",
       "      score10  \n",
       "0          63  \n",
       "1          82  \n",
       "2          85  \n",
       "3          97  \n",
       "4          75  \n",
       "...       ...  \n",
       "4995       87  \n",
       "4996       54  \n",
       "4997       91  \n",
       "4998       84  \n",
       "4999       98  \n",
       "\n",
       "[5000 rows x 10 columns]"
      ]
     },
     "execution_count": 187,
     "metadata": {},
     "output_type": "execute_result"
    }
   ],
   "source": [
    "X = cleaned_data.drop(['grade'],axis=1)\n",
    "X"
   ]
  },
  {
   "cell_type": "markdown",
   "metadata": {},
   "source": [
    "### Target Data"
   ]
  },
  {
   "cell_type": "code",
   "execution_count": 189,
   "metadata": {},
   "outputs": [
    {
     "data": {
      "text/plain": [
       "0              Fair\n",
       "1         Very good\n",
       "2       Exceptional\n",
       "3              Good\n",
       "4              Fair\n",
       "           ...     \n",
       "4995           Good\n",
       "4996           Poor\n",
       "4997           Good\n",
       "4998           Fair\n",
       "4999    Exceptional\n",
       "Name: grade, Length: 5000, dtype: object"
      ]
     },
     "execution_count": 189,
     "metadata": {},
     "output_type": "execute_result"
    }
   ],
   "source": [
    "Y = cleaned_data.grade\n",
    "Y"
   ]
  },
  {
   "cell_type": "markdown",
   "metadata": {},
   "source": [
    "## Train and test data split"
   ]
  },
  {
   "cell_type": "code",
   "execution_count": 195,
   "metadata": {},
   "outputs": [],
   "source": [
    "X_train, X_test, y_train, y_test = train_test_split(X, Y, test_size=0.3, random_state=1) \n",
    "  "
   ]
  },
  {
   "cell_type": "markdown",
   "metadata": {},
   "source": [
    "## Naive Bayes Classifier "
   ]
  },
  {
   "cell_type": "code",
   "execution_count": 196,
   "metadata": {},
   "outputs": [],
   "source": [
    "\n",
    "model = GaussianNB()\n"
   ]
  },
  {
   "cell_type": "markdown",
   "metadata": {},
   "source": [
    "## Training"
   ]
  },
  {
   "cell_type": "code",
   "execution_count": 197,
   "metadata": {},
   "outputs": [
    {
     "data": {
      "text/plain": [
       "GaussianNB()"
      ]
     },
     "execution_count": 197,
     "metadata": {},
     "output_type": "execute_result"
    }
   ],
   "source": [
    "model.fit(X,Y)"
   ]
  },
  {
   "cell_type": "markdown",
   "metadata": {},
   "source": [
    "## Testing"
   ]
  },
  {
   "cell_type": "code",
   "execution_count": 198,
   "metadata": {},
   "outputs": [],
   "source": [
    "predicted_grade = model.predict(X_test)"
   ]
  },
  {
   "cell_type": "code",
   "execution_count": 222,
   "metadata": {},
   "outputs": [
    {
     "name": "stdout",
     "output_type": "stream",
     "text": [
      "Accuracy:  89.4\n"
     ]
    }
   ],
   "source": [
    "\n",
    "print(\"Accuracy: \", metrics.accuracy_score(y_test, predicted_grade)*100)\n"
   ]
  },
  {
   "cell_type": "code",
   "execution_count": null,
   "metadata": {},
   "outputs": [],
   "source": []
  }
 ],
 "metadata": {
  "kernelspec": {
   "display_name": "Python 3",
   "language": "python",
   "name": "python3"
  },
  "language_info": {
   "codemirror_mode": {
    "name": "ipython",
    "version": 3
   },
   "file_extension": ".py",
   "mimetype": "text/x-python",
   "name": "python",
   "nbconvert_exporter": "python",
   "pygments_lexer": "ipython3",
   "version": "3.8.5"
  }
 },
 "nbformat": 4,
 "nbformat_minor": 4
}
